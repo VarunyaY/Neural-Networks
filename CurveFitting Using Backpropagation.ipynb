{
 "cells": [
  {
   "cell_type": "code",
   "execution_count": 3,
   "metadata": {},
   "outputs": [],
   "source": [
    "from sympy import *\n",
    "from random import gauss\n",
    "import numpy as np\n",
    "import random as rd\n",
    "import matplotlib.pyplot as plt"
   ]
  },
  {
   "cell_type": "code",
   "execution_count": 8,
   "metadata": {},
   "outputs": [],
   "source": [
    "xinput = np.zeros(shape=(300,1))\n",
    "xinput = np.array(np.random.uniform(0, 1, (300, 1)))"
   ]
  },
  {
   "cell_type": "code",
   "execution_count": 132,
   "metadata": {},
   "outputs": [],
   "source": [
    "vnoise = np.zeros(shape=(300,1))\n",
    "vnoise = np.array(np.random.uniform(-1/10, 1/10, (300, 1)))\n"
   ]
  },
  {
   "cell_type": "code",
   "execution_count": 133,
   "metadata": {},
   "outputs": [],
   "source": [
    "xi = Symbol('xi')\n",
    "vi = Symbol('vi')"
   ]
  },
  {
   "cell_type": "code",
   "execution_count": 134,
   "metadata": {},
   "outputs": [],
   "source": [
    "di1 = sin(20*xi) + 3*xi + vi"
   ]
  },
  {
   "cell_type": "code",
   "execution_count": 135,
   "metadata": {},
   "outputs": [
    {
     "name": "stdout",
     "output_type": "stream",
     "text": [
      "vi + 3*xi + sin(20*xi)\n"
     ]
    }
   ],
   "source": [
    "print(di)"
   ]
  },
  {
   "cell_type": "code",
   "execution_count": 17,
   "metadata": {},
   "outputs": [],
   "source": [
    "d = np.zeros(shape=(300,1))\n",
    "for i in range(300):\n",
    "    d[i] = di.evalf(subs={xi : float(xinput[i]), vi : float(vnoise[i])})"
   ]
  },
  {
   "cell_type": "code",
   "execution_count": 19,
   "metadata": {},
   "outputs": [],
   "source": [
    "d = np.column_stack((xinput,d))\n",
    "xpoints = []\n",
    "ypoints = []\n",
    "for i in range(300): \n",
    "    xpoints = xpoints + [d[i][0]]\n",
    "for i in range(300): \n",
    "    ypoints = ypoints + [d[i][1]]\n"
   ]
  },
  {
   "cell_type": "code",
   "execution_count": 20,
   "metadata": {
    "scrolled": true
   },
   "outputs": [
    {
     "data": {
      "image/png": "[encoded data removed]",
      "text/plain": [
       "<Figure size 432x288 with 1 Axes>"
      ]
     },
     "metadata": {
      "needs_background": "light"
     },
     "output_type": "display_data"
    }
   ],
   "source": [
    "plt.scatter(xpoints, ypoints, marker=\"o\", label=\"Point\")\n",
    "# plt.plot(xpoints, ypoints)\n",
    "plt.xlabel('xi')\n",
    "plt.ylabel('di')\n",
    "plt.legend()\n",
    "plt.title('Curve')\n",
    "plt.show()"
   ]
  },
  {
   "cell_type": "code",
   "execution_count": 153,
   "metadata": {},
   "outputs": [],
   "source": [
    "xmean = np.mean(xinput)\n",
    "xsd = np.std(xinput)\n",
    "xnorm = np.zeros(shape=(300,1))\n",
    "for i in range(300):\n",
    "    xnorm[i] = (xinput[i] - xmean)/xsd"
   ]
  },
  {
   "cell_type": "code",
   "execution_count": 154,
   "metadata": {},
   "outputs": [],
   "source": [
    "w1 = np.zeros(shape=(24,2))\n",
    "w2 = np.zeros(shape=(1,25))"
   ]
  },
  {
   "cell_type": "code",
   "execution_count": 155,
   "metadata": {},
   "outputs": [],
   "source": [
    "# w1 = np.array(0.01*np.random.randn(-1, 1, (24,2)))\n",
    "# w2 = np.array(0.01*np.random.randn(-2, 2, (1,25)))\n",
    "for i in range(2):\n",
    "    for j in range(24):\n",
    "        w1[j][i] = np.random.normal(0,1)\n",
    "\n",
    "for i in range(25):\n",
    "        w2[0][i] = np.random.normal(0,(1/24)**1/2)        "
   ]
  },
  {
   "cell_type": "code",
   "execution_count": 156,
   "metadata": {},
   "outputs": [
    {
     "name": "stdout",
     "output_type": "stream",
     "text": [
      "1 - tanh(vi)**2\n"
     ]
    }
   ],
   "source": [
    "vi = Symbol('vi')\n",
    "phi1 = tanh(vi)\n",
    "phi1diff = phi1.diff(vi)\n",
    "print(phi1diff)"
   ]
  },
  {
   "cell_type": "code",
   "execution_count": 157,
   "metadata": {},
   "outputs": [],
   "source": [
    "# Initial y value\n",
    "y = np.zeros(shape=(300,1))\n",
    "errorValue = 0\n",
    "errorValueList = []\n",
    "\n",
    "for i in range(300):\n",
    "    v1 = w1.dot([1, xnorm[i]])\n",
    "    ytemp = []\n",
    "    for j in range(24):\n",
    "        ytemp = ytemp + [np.tanh(v1[j])]    \n",
    "    v2 = w2.dot(np.concatenate(([1], ytemp)))\n",
    "    y[i] = v2"
   ]
  },
  {
   "cell_type": "code",
   "execution_count": 46,
   "metadata": {},
   "outputs": [
    {
     "name": "stdout",
     "output_type": "stream",
     "text": [
      "Threshold reached\n"
     ]
    }
   ],
   "source": [
    "epoch = 0\n",
    "eta1 = 0.001\n",
    "eta2 = 0.001\n",
    "errorValue = 0\n",
    "errorValueList = []\n",
    "while true:    \n",
    "    for i in range(300):\n",
    "        errorValue = errorValue + ((d[i][1] - y[i])**2)\n",
    "    errorValueList = errorValueList + [errorValue/300]\n",
    "    print(errorValue)\n",
    "    \n",
    "    if (len(errorValueList) == 1 and errorValueList[0] > 0.005) or (len(errorValueList) >1 and abs(errorValueList[epoch] - errorValueList[epoch-1]) > 0.005):\n",
    "        print('Error Value List len '+str(len(errorValueList)))\n",
    "        epoch = epoch + 1;        \n",
    "        for i in range(300):\n",
    "#           Forward pass\n",
    "            v1 = w1.dot([1, xnorm[i]])\n",
    "            y1 = []\n",
    "            for j in range(24):\n",
    "                y1 = y1 + [np.tanh(v1[j])]\n",
    "            v2 = w2.dot(np.concatenate(([1], y1)))\n",
    "            y[i] = v2\n",
    "            \n",
    "#           Backward Pass\n",
    "            if d[i][1] != y[i]:                \n",
    "                delta2 = d[i][1] - y[i]\n",
    "                w2_ext = np.delete(w2, (0), axis=1)\n",
    "                temp = np.zeros(shape=(1,24))\n",
    "                for j in range(24):\n",
    "                    temp[0][j] = 1-(np.tanh(float(v1[j]))**2)\n",
    "                \n",
    "                delta1 = []\n",
    "                delta1 = -1*delta2*np.multiply(np.transpose(w2_ext),np.transpose(temp))\n",
    "                \n",
    "                xTemp = np.reshape(np.concatenate(([1], xnorm[i])),(1,2))\n",
    "                pDW1 = -1*delta1.dot(xTemp)\n",
    "                pDW2 = -1*delta2*np.concatenate(([1], y1))\n",
    "                w1 = w1 + eta1 * pDW1 \n",
    "                w2 = w2 + eta2 * pDW2 \n",
    "#     else:\n",
    "            print('Threshold reached')\n",
    "            break;"
   ]
  },
  {
   "cell_type": "code",
   "execution_count": 45,
   "metadata": {},
   "outputs": [],
   "source": [
    "# Calculating the final y value\n",
    "for i in range(300):\n",
    "    v1 = w1.dot([1, xnorm[i]])\n",
    "    ytemp = []\n",
    "    for j in range(24):\n",
    "        ytemp = ytemp + [np.tanh(v1[j])]    \n",
    "    v2 = w2.dot(np.concatenate(([1], ytemp)))\n",
    "    y[i] = v2"
   ]
  },
  {
   "cell_type": "code",
   "execution_count": 29,
   "metadata": {},
   "outputs": [
    {
     "data": {
      "image/png": "[encoded data removed]",
      "text/plain": [
       "<Figure size 432x288 with 1 Axes>"
      ]
     },
     "metadata": {
      "needs_background": "light"
     },
     "output_type": "display_data"
    }
   ],
   "source": [
    "plt.scatter(xpoints, ypoints, marker=\"o\",color=\"Red\", label=\"Desired Y\")\n",
    "# plt.plot(xpoints, ypoints)\n",
    "plt.xlabel('xi')\n",
    "plt.ylabel('di')\n",
    "plt.legend()\n",
    "plt.title('Curve')\n",
    "plt.scatter(xpoints, y, marker=\"x\",color=\"Blue\", label=\"New Y\")\n",
    "# plt.plot(xpoints, ypoints)\n",
    "plt.xlabel('xi')\n",
    "plt.ylabel('di')\n",
    "plt.legend()\n",
    "plt.title('Curve')\n",
    "plt.show()"
   ]
  },
  {
   "cell_type": "code",
   "execution_count": 37,
   "metadata": {},
   "outputs": [],
   "source": [
    "epochList = []\n",
    "for i  in range(1, epoch+1):\n",
    "    epochList = epochList + [i]"
   ]
  },
  {
   "cell_type": "code",
   "execution_count": 38,
   "metadata": {},
   "outputs": [
    {
     "data": {
      "text/plain": [
       "858"
      ]
     },
     "execution_count": 38,
     "metadata": {},
     "output_type": "execute_result"
    }
   ],
   "source": [
    "len(epochList)"
   ]
  },
  {
   "cell_type": "code",
   "execution_count": 41,
   "metadata": {},
   "outputs": [
    {
     "data": {
      "text/plain": [
       "858"
      ]
     },
     "execution_count": 41,
     "metadata": {},
     "output_type": "execute_result"
    }
   ],
   "source": [
    "len(errorList)"
   ]
  },
  {
   "cell_type": "code",
   "execution_count": 42,
   "metadata": {},
   "outputs": [
    {
     "data": {
      "image/png": "[encoded data removed]",
      "text/plain": [
       "<Figure size 432x288 with 1 Axes>"
      ]
     },
     "metadata": {
      "needs_background": "light"
     },
     "output_type": "display_data"
    }
   ],
   "source": [
    "plt.scatter(epochList, errorList, marker=\"o\", label=\"Error Value vs Epoch\")\n",
    "plt.plot(epochList, errorList)\n",
    "plt.xlabel('Epoch')\n",
    "plt.ylabel('Error Value')\n",
    "plt.legend()\n",
    "plt.title('')\n",
    "plt.show()"
   ]
  }
 ],
 "metadata": {
  "kernelspec": {
   "display_name": "Python 3",
   "language": "python",
   "name": "python3"
  },
  "language_info": {
   "codemirror_mode": {
    "name": "ipython",
    "version": 3
   },
   "file_extension": ".py",
   "mimetype": "text/x-python",
   "name": "python",
   "nbconvert_exporter": "python",
   "pygments_lexer": "ipython3",
   "version": "3.7.4"
  }
 },
 "nbformat": 4,
 "nbformat_minor": 2
}
