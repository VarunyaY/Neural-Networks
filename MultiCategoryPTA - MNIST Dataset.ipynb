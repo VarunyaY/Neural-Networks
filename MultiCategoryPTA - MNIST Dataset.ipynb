{
 "cells": [
  {
   "cell_type": "code",
   "execution_count": 8,
   "metadata": {},
   "outputs": [],
   "source": [
    "import time\n",
    "import struct as st\n",
    "import numpy as np"
   ]
  },
  {
   "cell_type": "code",
   "execution_count": 3,
   "metadata": {},
   "outputs": [
    {
     "name": "stdout",
     "output_type": "stream",
     "text": [
      "1575133223.548621\n"
     ]
    }
   ],
   "source": [
    "stime = time.time()\n",
    "print(stime)"
   ]
  },
  {
   "cell_type": "code",
   "execution_count": 4,
   "metadata": {},
   "outputs": [],
   "source": [
    "filename = {\n",
    "    'images': 'train-images-idx3-ubyte',\n",
    "    'labels': 'train-labels.idx1-ubyte'}\n",
    "images_array = np.array([])\n",
    "labels_array = np.array([])"
   ]
  },
  {
   "cell_type": "code",
   "execution_count": 6,
   "metadata": {},
   "outputs": [],
   "source": [
    "print(images_array.shape)\n",
    "for name in filename.keys():\n",
    "    if name == 'images':\n",
    "#         Provide the file path for images and labels\n",
    "        imagesfile = open('~/train-images-idx3-ubyte','rb')\n",
    "    if name == 'labels':\n",
    "        labelsfile = open('~/train-labels-idx1-ubyte','rb')"
   ]
  },
  {
   "cell_type": "code",
   "execution_count": 14,
   "metadata": {},
   "outputs": [
    {
     "name": "stdout",
     "output_type": "stream",
     "text": [
      "no. of images ::  60000\n",
      "no. of rows ::  28\n",
      "no. of columns ::  28\n"
     ]
    }
   ],
   "source": [
    "imagesfile.seek(4)\n",
    "nImg = st.unpack('>I', imagesfile.read(4))[0]  # num of images/labels\n",
    "nR = st.unpack('>I', imagesfile.read(4))[0]  # num of rows\n",
    "nC = st.unpack('>I', imagesfile.read(4))[0]  # num of columns\n",
    "labelsfile.seek(8)  # Since no. of items = no. of images and is already read\n",
    "print(\"no. of images :: \", nImg)\n",
    "print(\"no. of rows :: \", nR)\n",
    "print(\"no. of columns :: \", nC)"
   ]
  },
  {
   "cell_type": "code",
   "execution_count": 15,
   "metadata": {},
   "outputs": [
    {
     "name": "stdout",
     "output_type": "stream",
     "text": [
      "16.666666666666664 % complete...\n",
      "33.33333333333333 % complete...\n",
      "50.0 % complete...\n",
      "66.66666666666666 % complete...\n",
      "83.33333333333334 % complete...\n",
      "100.0 % complete...\n"
     ]
    }
   ],
   "source": [
    "temp_array = np.array([])\n",
    "images10000_array = np.array([])\n",
    "for i in range(1, nImg + 1):\n",
    "    # Read labels\n",
    "    labels_array = np.append(labels_array, st.unpack('>B', labelsfile.read(1))[0])\n",
    "    # Read training images\n",
    "    if temp_array.size == 0:\n",
    "        # invert the image as 255 is white and 0 is black\n",
    "        temp_array = 255 - np.asarray(st.unpack('>784B', imagesfile.read(784))).reshape((nR, nC))\n",
    "    else:\n",
    "        nextimage = 255 - np.asarray(st.unpack('>784B', imagesfile.read(784))).reshape((nR, nC))\n",
    "        if len(temp_array.shape) == 2:\n",
    "            temp_array = np.vstack((temp_array[None], nextimage[None]))\n",
    "        else:\n",
    "            temp_array = np.vstack((temp_array, nextimage[None]))\n",
    "\n",
    "    # Extra stuffs to speed up the stacking process (took 51.804361105 seconds in my case)\n",
    "    # Stacking each 1000 block to form a block of 10000\n",
    "    if i % 1000 == 0 and i != 0:\n",
    "        if images10000_array.size == 0:\n",
    "            images10000_array = temp_array\n",
    "        else:\n",
    "            images10000_array = np.vstack((images10000_array, temp_array))\n",
    "        temp_array = np.array([])\n",
    "    # Stacking each 10000 block to form the whole dataset\n",
    "    if i % 10000 == 0 and i != 0:\n",
    "        if images_array.size == 0:\n",
    "            images_array = images10000_array\n",
    "        else:\n",
    "            images_array = np.vstack((images_array, images10000_array))\n",
    "        images10000_array = np.array([])\n",
    "\n",
    "        print((float(i) / nImg * 100), \"% complete...\")\n"
   ]
  },
  {
   "cell_type": "code",
   "execution_count": 16,
   "metadata": {},
   "outputs": [
    {
     "name": "stdout",
     "output_type": "stream",
     "text": [
      "(60000,)\n",
      "(60000, 28, 28)\n"
     ]
    }
   ],
   "source": [
    "print(labels_array.shape)\n",
    "print(images_array.shape)"
   ]
  },
  {
   "cell_type": "code",
   "execution_count": 20,
   "metadata": {},
   "outputs": [
    {
     "name": "stdout",
     "output_type": "stream",
     "text": [
      "(60000, 784)\n"
     ]
    }
   ],
   "source": [
    "#Picking up 1000 samples from the training set\n",
    "n=60000\n",
    "images_array_n60000 = images_array[-n:]\n",
    "images_array_n60000 = images_array_n60000.reshape(n, 28*28)\n",
    "print(images_array_n60000.shape)"
   ]
  },
  {
   "cell_type": "code",
   "execution_count": 23,
   "metadata": {},
   "outputs": [
    {
     "name": "stdout",
     "output_type": "stream",
     "text": [
      "(60000,)\n"
     ]
    }
   ],
   "source": [
    "# Picking the first 1000 labels and converting the values to integer\n",
    "labels_array_n60000 = labels_array[-n:]\n",
    "print(labels_array_n60000.shape)\n",
    "labels_array_n60000 = [int(i) for i in labels_array_n60000]"
   ]
  },
  {
   "cell_type": "code",
   "execution_count": 27,
   "metadata": {},
   "outputs": [
    {
     "name": "stdout",
     "output_type": "stream",
     "text": [
      "[0. 0. 0. 0. 0. 1. 0. 0. 0. 0.]\n",
      "(10, 784)\n"
     ]
    }
   ],
   "source": [
    "# For desired outputs converting to one hot encoding form\n",
    "d = np.zeros((n, 10))\n",
    "d[np.arange(n), labels_array_n60000] = 1\n",
    "for i in range(0, n):\n",
    "    d[i] = [int(item) for item in d[i]]\n",
    "print(d[0])\n",
    "\n",
    "# Code for Multicategory PTA for 60000 training samples\n",
    "# Initiating weight matrix with values from -100 to 100\n",
    "W = np.zeros(shape=(10, 784))\n",
    "W = np.array(np.random.randint(-100, 100, (10, 784)))\n",
    "tempWx1 = np.zeros(shape=(10, 784))\n",
    "print(W.shape)\n",
    "\n",
    "eta = 1\n",
    "threshold = 0\n",
    "\n",
    "epoch = 0\n",
    "errors = [0]"
   ]
  },
  {
   "cell_type": "code",
   "execution_count": 7,
   "metadata": {},
   "outputs": [],
   "source": [
    "while True:\n",
    "#     print('Epoch ' + str(epoch))\n",
    "    print(errors[epoch - 1]/n )\n",
    "    if (epoch == 0 and 1!=1) or (epoch>0 and errors[epoch - 1]/n <= threshold):\n",
    "        break\n",
    "    else:\n",
    "        \n",
    "        for i in range(0, n):\n",
    "            v = W.dot(images_array_n60000[i].transpose())\n",
    "            vmaxpos = np.where(v == np.amax(v))[0]\n",
    "            for item in range(0, 10):\n",
    "              v[item]=0 if item != vmaxpos else 1\n",
    "            if np.array_equal(v, d[i].transpose()):\n",
    "                continue\n",
    "            else:                \n",
    "                errors[epoch] = errors[epoch] + 1\n",
    "        print(errors[epoch])\n",
    "        epoch = epoch+1        \n",
    "        errors.append(0)\n",
    "        for i in range(0, n):\n",
    "            # tempWx dimension 10 x 1\n",
    "            tempWx = W.dot(images_array_n60000[i].transpose())\n",
    "            for j in range(0, 10):\n",
    "                tempWx[j] = 0 if tempWx[j] < 0 else 1\n",
    "            tempWx1 = np.subtract(d[i].transpose(), tempWx).reshape(10, 1).dot(images_array_n60000[i].reshape(1, 784))\n",
    "            W = W + eta * tempWx1\n",
    "errors = errors[:-1]"
   ]
  },
  {
   "cell_type": "code",
   "execution_count": 36,
   "metadata": {},
   "outputs": [],
   "source": [
    "# Code for testing the samples and calculating the errors\n",
    "# Below code gets the data into numpy arrays from the test files\n",
    "filename_test = {\n",
    "    'images': '/Users/varunyayanamadala/Documents/Sem1 Courses/Neural Networks/Assignments/HW2/t10k-images-idx3-ubyte',\n",
    "    'labels': '/Users/varunyayanamadala/Documents/Sem1 Courses/Neural Networks/Assignments/HW2/t10k-labels-idx1-ubyte'}\n",
    "images_test_array = np.array([])\n",
    "labels_test_array = np.array([])\n",
    "\n",
    "for name in filename.keys():\n",
    "    if name == 'images':\n",
    "        imagesfile = open(\n",
    "            '/Users/varunyayanamadala/Documents/Sem1 Courses/Neural Networks/Assignments/HW2/t10k-images-idx3-ubyte',\n",
    "            'rb')\n",
    "    if name == 'labels':\n",
    "        labelsfile = open(\n",
    "            '/Users/varunyayanamadala/Documents/Sem1 Courses/Neural Networks/Assignments/HW2/t10k-labels-idx1-ubyte',\n",
    "            'rb')\n"
   ]
  },
  {
   "cell_type": "code",
   "execution_count": 37,
   "metadata": {},
   "outputs": [
    {
     "name": "stdout",
     "output_type": "stream",
     "text": [
      "no. of images ::  10000\n",
      "no. of rows ::  28\n",
      "no. of columns ::  28\n"
     ]
    }
   ],
   "source": [
    "imagesfile.seek(4)\n",
    "nImg = st.unpack('>I', imagesfile.read(4))[0]  # num of images/labels\n",
    "nR = st.unpack('>I', imagesfile.read(4))[0]  # num of rows\n",
    "nC = st.unpack('>I', imagesfile.read(4))[0]  # num of columns\n",
    "labelsfile.seek(8)  # Since no. of items = no. of images and is already read\n",
    "print(\"no. of images :: \", nImg)\n",
    "print(\"no. of rows :: \", nR)\n",
    "print(\"no. of columns :: \", nC)\n"
   ]
  },
  {
   "cell_type": "code",
   "execution_count": 38,
   "metadata": {},
   "outputs": [],
   "source": [
    "temp_array = np.array([])\n",
    "images10000_array = np.array([])"
   ]
  },
  {
   "cell_type": "code",
   "execution_count": 39,
   "metadata": {},
   "outputs": [
    {
     "name": "stdout",
     "output_type": "stream",
     "text": [
      "100.0 % complete...\n"
     ]
    }
   ],
   "source": [
    "for i in range(1, nImg + 1):\n",
    "    # Read labels\n",
    "    labels_test_array = np.append(labels_test_array, st.unpack('>B', labelsfile.read(1))[0])\n",
    "    # Read training images\n",
    "    if temp_array.size == 0:\n",
    "        # invert the image as 255 is white and 0 is black\n",
    "        temp_array = 255 - np.asarray(st.unpack('>784B', imagesfile.read(784))).reshape((nR, nC))\n",
    "    else:\n",
    "        nextimage = 255 - np.asarray(st.unpack('>784B', imagesfile.read(784))).reshape((nR, nC))\n",
    "        if len(temp_array.shape) == 2:\n",
    "            temp_array = np.vstack((temp_array[None], nextimage[None]))\n",
    "        else:\n",
    "            temp_array = np.vstack((temp_array, nextimage[None]))\n",
    "\n",
    "    # Extra stuffs to speed up the stacking process (took 51.804361105 seconds in my case)\n",
    "    # Stacking each 1000 block to form a block of 10000\n",
    "    if i % 1000 == 0 and i != 0:\n",
    "        if images10000_array.size == 0:\n",
    "            images10000_array = temp_array\n",
    "        else:\n",
    "            images10000_array = np.vstack((images10000_array, temp_array))\n",
    "        temp_array = np.array([])\n",
    "    # Stacking each 10000 block to form the whole dataset\n",
    "    if i % 10000 == 0 and i != 0:\n",
    "        if images_test_array.size == 0:\n",
    "            images_test_array = images10000_array\n",
    "        else:\n",
    "            images_test_array = np.vstack((images_test_array, images10000_array))\n",
    "        images10000_array = np.array([])\n",
    "\n",
    "        print((float(i) / nImg * 100), \"% complete...\")"
   ]
  },
  {
   "cell_type": "code",
   "execution_count": 40,
   "metadata": {},
   "outputs": [],
   "source": [
    "images_test_array = images_test_array.reshape(10000, 28*28)"
   ]
  },
  {
   "cell_type": "code",
   "execution_count": 41,
   "metadata": {},
   "outputs": [
    {
     "name": "stdout",
     "output_type": "stream",
     "text": [
      "[0. 0. 0. 0. 0. 0. 0. 1. 0. 0.]\n"
     ]
    }
   ],
   "source": [
    "labels_test_array = [int(i) for i in labels_test_array]\n",
    "# For desired outputs converting to one hot encoding form\n",
    "d_test = np.zeros((10000, 10))\n",
    "d_test[np.arange(10000), labels_test_array] = 1\n",
    "for i in range(0, 10000):\n",
    "    d_test[i] = [int(item) for item in d_test[i]]\n",
    "print(d_test[0])"
   ]
  },
  {
   "cell_type": "code",
   "execution_count": 42,
   "metadata": {},
   "outputs": [],
   "source": [
    "errors_test=0\n",
    "for i in range(0, 10000):\n",
    "            v = W.dot(images_test_array[i].transpose())\n",
    "            vmaxpos = np.where(v == np.amax(v))[0]\n",
    "            for item in range(0, 10):\n",
    "              v[item]=0 if item != vmaxpos else 1\n",
    "            if np.array_equal(v, d_test[i].transpose()):\n",
    "                continue\n",
    "            else:                \n",
    "                errors_test = errors_test + 1"
   ]
  },
  {
   "cell_type": "code",
   "execution_count": 43,
   "metadata": {},
   "outputs": [
    {
     "data": {
      "text/plain": [
       "1722"
      ]
     },
     "execution_count": 43,
     "metadata": {},
     "output_type": "execute_result"
    }
   ],
   "source": [
    "errors_test"
   ]
  },
  {
   "cell_type": "code",
   "execution_count": 46,
   "metadata": {},
   "outputs": [
    {
     "data": {
      "image/png": "[encoded data removed]",
      "text/plain": [
       "<Figure size 432x288 with 1 Axes>"
      ]
     },
     "metadata": {
      "needs_background": "light"
     },
     "output_type": "display_data"
    }
   ],
   "source": [
    "import matplotlib.pyplot as plt\n",
    "ax2 = plt.subplot(111)\n",
    "\n",
    "\n",
    "xAxisPoints = list(range(epoch))\n",
    "yAxisPoints = errors\n",
    "\n",
    "ax2.plot(xAxisPoints, yAxisPoints, color=\"black\", lw=1)\n",
    "plt.xlim(1,epoch-1)\n",
    "plt.xlabel('epoch')\n",
    "plt.ylabel('Number of errors')\n",
    "plt.show()"
   ]
  },
  {
   "cell_type": "code",
   "execution_count": 47,
   "metadata": {},
   "outputs": [],
   "source": [
    "percentageMisclassifications=(errors_test/10000)*100"
   ]
  },
  {
   "cell_type": "code",
   "execution_count": 48,
   "metadata": {},
   "outputs": [
    {
     "data": {
      "text/plain": [
       "17.22"
      ]
     },
     "execution_count": 48,
     "metadata": {},
     "output_type": "execute_result"
    }
   ],
   "source": [
    "percentageMisclassifications"
   ]
  }
 ],
 "metadata": {
  "kernelspec": {
   "display_name": "Python 3",
   "language": "python",
   "name": "python3"
  },
  "language_info": {
   "codemirror_mode": {
    "name": "ipython",
    "version": 3
   },
   "file_extension": ".py",
   "mimetype": "text/x-python",
   "name": "python",
   "nbconvert_exporter": "python",
   "pygments_lexer": "ipython3",
   "version": "3.7.4"
  }
 },
 "nbformat": 4,
 "nbformat_minor": 2
}
